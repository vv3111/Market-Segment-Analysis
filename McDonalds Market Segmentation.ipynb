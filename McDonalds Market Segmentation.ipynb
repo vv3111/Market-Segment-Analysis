{
 "cells": [
  {
   "cell_type": "code",
   "execution_count": null,
   "id": "0260ad92",
   "metadata": {},
   "outputs": [],
   "source": [
    "# Importing Libraries\n",
    "\n",
    "import numpy as np\n",
    "import pandas as pd\n",
    "import matplotlib.pyplot as plt\n",
    "import seaborn as sns"
   ]
  },
  {
   "cell_type": "code",
   "execution_count": null,
   "id": "b262798a",
   "metadata": {},
   "outputs": [],
   "source": [
    "# Reading csv and inspecting first 5 rows\n",
    "\n",
    "df = pd.read_csv('mcdonalds.csv')\n",
    "df.head()"
   ]
  },
  {
   "cell_type": "code",
   "execution_count": null,
   "id": "d2256af3",
   "metadata": {},
   "outputs": [],
   "source": [
    "# inspecting column names\n",
    "\n",
    "df.columns"
   ]
  },
  {
   "cell_type": "code",
   "execution_count": null,
   "id": "0a217b43",
   "metadata": {},
   "outputs": [],
   "source": [
    "# inspecting the shape of the dataframe\n",
    "\n",
    "df.shape"
   ]
  },
  {
   "cell_type": "code",
   "execution_count": null,
   "id": "b67cc859",
   "metadata": {},
   "outputs": [],
   "source": [
    "# checking if the dataset contains any null values\n",
    "\n",
    "df.isna().sum()"
   ]
  },
  {
   "cell_type": "code",
   "execution_count": null,
   "id": "dd21390c",
   "metadata": {},
   "outputs": [],
   "source": [
    "# inspecting the like column\n",
    "\n",
    "df['Like'].value_counts()"
   ]
  },
  {
   "cell_type": "code",
   "execution_count": null,
   "id": "29668825",
   "metadata": {},
   "outputs": [],
   "source": [
    "# inspecting the age column\n",
    "\n",
    "df['Gender'].value_counts()"
   ]
  },
  {
   "cell_type": "code",
   "execution_count": null,
   "id": "e5be08da",
   "metadata": {},
   "outputs": [],
   "source": [
    "# inspecting the visit frequency column\n",
    "\n",
    "df['VisitFrequency'].value_counts()"
   ]
  },
  {
   "cell_type": "code",
   "execution_count": null,
   "id": "4c1796ad",
   "metadata": {},
   "outputs": [],
   "source": [
    "# Converting Yes/No to binary values\n",
    "\n",
    "bin_cols = df.columns[:11]\n",
    "for col in bin_cols:\n",
    "    df[col] = df[col].map(lambda x : 1 if x == 'Yes' else 0)"
   ]
  },
  {
   "cell_type": "code",
   "execution_count": null,
   "id": "6109356b",
   "metadata": {
    "scrolled": true
   },
   "outputs": [],
   "source": [
    "# inspecting after the tranformation from verbal to binary\n",
    "\n",
    "df.head()"
   ]
  },
  {
   "cell_type": "code",
   "execution_count": null,
   "id": "485192b0",
   "metadata": {},
   "outputs": [],
   "source": [
    "# inspecting the average value of each transformed segmentation variable\n",
    "\n",
    "for col in bin_cols:\n",
    "    temp = (df[col] == 1).sum()/len(df)\n",
    "    print(col + ':', round(temp, 2))"
   ]
  },
  {
   "cell_type": "code",
   "execution_count": null,
   "id": "0477198a",
   "metadata": {},
   "outputs": [],
   "source": [
    "# describe the dataframe\n",
    "\n",
    "df.describe()"
   ]
  },
  {
   "cell_type": "markdown",
   "id": "eeb78166",
   "metadata": {},
   "source": [
    "### EDA"
   ]
  },
  {
   "cell_type": "code",
   "execution_count": null,
   "id": "661a43ec",
   "metadata": {
    "scrolled": true
   },
   "outputs": [],
   "source": [
    "# inspect the distribution of Gender in the dataset\n",
    "\n",
    "sns.countplot(x = df['Gender'])\n",
    "plt.title('Gender Distribution')\n",
    "plt.show()"
   ]
  },
  {
   "cell_type": "code",
   "execution_count": null,
   "id": "2d4cb0c2",
   "metadata": {
    "scrolled": true
   },
   "outputs": [],
   "source": [
    "# inspecting the distribution of age \n",
    "\n",
    "plt.figure(figsize = (12, 6))\n",
    "sns.histplot(x = df['Age'], bins = 25, kde = True)\n",
    "plt.title('Age distribution')\n",
    "plt.show()"
   ]
  },
  {
   "cell_type": "code",
   "execution_count": null,
   "id": "fc2f4e34",
   "metadata": {},
   "outputs": [],
   "source": [
    "df['Age'].nunique()"
   ]
  },
  {
   "cell_type": "code",
   "execution_count": null,
   "id": "1e5c26be",
   "metadata": {},
   "outputs": [],
   "source": [
    "# as in the dataset unqiue ages are only 54 we can also see the count plot\n",
    "\n",
    "plt.figure(figsize = (14, 6))\n",
    "sns.countplot(x = df['Age'])\n",
    "plt.title('Age distribution')\n",
    "plt.show()"
   ]
  },
  {
   "cell_type": "code",
   "execution_count": null,
   "id": "40ad33b4",
   "metadata": {},
   "outputs": [],
   "source": [
    "# inspecting the like column\n",
    "\n",
    "plt.figure(figsize = (12, 6))\n",
    "sns.countplot(x = df['Like'])\n",
    "plt.title('Like Distribution')\n",
    "plt.show()"
   ]
  },
  {
   "cell_type": "code",
   "execution_count": null,
   "id": "0e71f0a8",
   "metadata": {},
   "outputs": [],
   "source": [
    "# inspecting visit frequency\n",
    "\n",
    "plt.figure(figsize = (12, 6))\n",
    "sns.countplot(x = df['VisitFrequency'])\n",
    "plt.title('Visit Frequency Distribution')\n",
    "plt.show()"
   ]
  },
  {
   "cell_type": "code",
   "execution_count": null,
   "id": "617659b1",
   "metadata": {},
   "outputs": [],
   "source": [
    "# now lets plot the average of the segmentation varibales\n",
    "\n",
    "temp = []\n",
    "for col in bin_cols:\n",
    "    temp.append(round((df[col] == 1).sum()/len(df), 2))"
   ]
  },
  {
   "cell_type": "code",
   "execution_count": null,
   "id": "2290c111",
   "metadata": {},
   "outputs": [],
   "source": [
    "plt.figure(figsize = (12, 6))\n",
    "sns.barplot(x = bin_cols, y = temp)\n",
    "plt.title('Average of the segmentation variable')\n",
    "plt.show()"
   ]
  },
  {
   "cell_type": "code",
   "execution_count": null,
   "id": "e60a021c",
   "metadata": {},
   "outputs": [],
   "source": [
    "# transforming like column to numeric\n",
    "\n",
    "df['Like'] = df['Like'].replace({'I hate it!-5': '-5','I love it!+5':'+5'})\n",
    "df['Like'] = df['Like'].map(lambda x : int(x))"
   ]
  },
  {
   "cell_type": "code",
   "execution_count": null,
   "id": "3604df51",
   "metadata": {},
   "outputs": [],
   "source": [
    "# lets inspect the correlation between variables\n",
    "\n",
    "plt.figure(figsize = (14, 8))\n",
    "sns.heatmap(df.corr(), cmap = 'viridis', annot = True)\n",
    "plt.show()"
   ]
  },
  {
   "cell_type": "markdown",
   "id": "0c02259a",
   "metadata": {},
   "source": [
    "#### Some insights can be gained from the above heat map\n",
    "\n",
    "1) Presence of some redundant variables like : **tasty and yummy, cheap and expensive, fattening and healthy**.\n",
    "\n",
    "2) There is high **positive** correlation between **likeness and yummy, likeness and convenience** which makes sense.\n",
    "\n",
    "3) There is high **negative** correlation between likeness and disgusting and also some negative correlation with **likeness and greasy, likeness and age** (Higher age people are less probable to like McDonalds)."
   ]
  },
  {
   "cell_type": "markdown",
   "id": "e1195e4c",
   "metadata": {},
   "source": [
    "### PCA"
   ]
  },
  {
   "cell_type": "code",
   "execution_count": null,
   "id": "fb1f915f",
   "metadata": {},
   "outputs": [],
   "source": [
    "from sklearn.decomposition import PCA"
   ]
  },
  {
   "cell_type": "code",
   "execution_count": null,
   "id": "29806d1b",
   "metadata": {},
   "outputs": [],
   "source": [
    "# transforming the data by PCA and viewing it from a diffrent lens\n",
    "\n",
    "x = df.iloc[:, :11].values\n",
    "\n",
    "pca = PCA(n_components=11)\n",
    "pc_x = pca.fit_transform(x)\n",
    "\n",
    "pc_x"
   ]
  },
  {
   "cell_type": "code",
   "execution_count": null,
   "id": "96c862ad",
   "metadata": {},
   "outputs": [],
   "source": [
    "# converting the pc_x back to dataframe so that we can use pandas tools to visulaize eassily\n",
    "\n",
    "pc_cols = []\n",
    "for i in range(1, 12):\n",
    "    pc_cols.append('PC' + str(i))\n",
    "    \n",
    "df_pc = pd.DataFrame(data = pc_x, columns=pc_cols)"
   ]
  },
  {
   "cell_type": "code",
   "execution_count": null,
   "id": "baafe0d6",
   "metadata": {},
   "outputs": [],
   "source": [
    "# inspecting first 5 rows of the transformed segmentation variables\n",
    "\n",
    "df_pc.head()"
   ]
  },
  {
   "cell_type": "code",
   "execution_count": null,
   "id": "7c5ce6ec",
   "metadata": {},
   "outputs": [],
   "source": [
    "# standard devaition of each components can be seen\n",
    "\n",
    "df_pc.describe()"
   ]
  },
  {
   "cell_type": "code",
   "execution_count": null,
   "id": "a5673c2c",
   "metadata": {},
   "outputs": [],
   "source": [
    "# inspecting the propotion of explained variance by each component\n",
    "\n",
    "pca.explained_variance_"
   ]
  },
  {
   "cell_type": "code",
   "execution_count": null,
   "id": "83e91de9",
   "metadata": {},
   "outputs": [],
   "source": [
    "plt.figure(figsize=(10, 6))\n",
    "sns.barplot(x = df_pc.columns, y = pca.explained_variance_)\n",
    "plt.title('Variance explained')\n",
    "plt.show()"
   ]
  },
  {
   "cell_type": "code",
   "execution_count": null,
   "id": "214548ee",
   "metadata": {},
   "outputs": [],
   "source": [
    "# inspecting the explained variance ratio by each component\n",
    "\n",
    "plt.figure(figsize=(10, 6))\n",
    "sns.barplot(x = df_pc.columns, y = pca.explained_variance_ratio_)\n",
    "plt.title('Variance explained Ratio')\n",
    "plt.show()"
   ]
  },
  {
   "cell_type": "markdown",
   "id": "204291dd",
   "metadata": {},
   "source": [
    "#### As we can see about 50% of the variance is explained just by first two components and about 63% of the variance is explained just by first three component, this signals that we may have redundant variables which we saw in the heatmap of correlation of variables."
   ]
  },
  {
   "cell_type": "code",
   "execution_count": null,
   "id": "a4962357",
   "metadata": {},
   "outputs": [],
   "source": [
    "# plotting PCA1 and PCA2\n",
    "\n",
    "plt.figure(figsize = (10 ,6))\n",
    "sns.scatterplot(x = df_pc['PC1'],y = df_pc['PC2'])\n",
    "plt.title('PC2 vs PC1')\n",
    "plt.show()"
   ]
  },
  {
   "cell_type": "code",
   "execution_count": null,
   "id": "e5e49bfe",
   "metadata": {},
   "outputs": [],
   "source": [
    "# finding loadings\n",
    "\n",
    "# PCA loadings are the coefficients of the linear combination of the original variables from which the principal components (PCs) are constructed.\n",
    "\n",
    "# Loadings Matrix = V * (E)^0.5\n",
    "# Where V is pca.components_.T and E is np.sqrt(pca.explained_variance_)\n",
    "\n",
    "loadings = pca.components_.T * np.sqrt(pca.explained_variance_)"
   ]
  },
  {
   "cell_type": "code",
   "execution_count": null,
   "id": "83ce97db",
   "metadata": {},
   "outputs": [],
   "source": [
    "# inspecting shape of loadings\n",
    "\n",
    "loadings.shape"
   ]
  },
  {
   "cell_type": "code",
   "execution_count": null,
   "id": "a9b70594",
   "metadata": {},
   "outputs": [],
   "source": [
    "# converting it into df and inspecting\n",
    "\n",
    "df_loadings = np.round(pd.DataFrame(data = loadings,\n",
    "                           columns = df_pc.columns,\n",
    "                          index = bin_cols), 3)"
   ]
  },
  {
   "cell_type": "code",
   "execution_count": null,
   "id": "5893c8b9",
   "metadata": {},
   "outputs": [],
   "source": [
    "df_loadings"
   ]
  },
  {
   "cell_type": "code",
   "execution_count": null,
   "id": "6a2cff67",
   "metadata": {},
   "outputs": [],
   "source": [
    "from bioinfokit.visuz import cluster\n",
    "\n",
    "# plotiing the 2D biplot\n",
    "\n",
    "cluster.biplot(cscore=df_pc.values, loadings=pca.components_, labels=df.columns.values, var1=round(pca.explained_variance_ratio_[0]*100, 2),\n",
    "    var2=round(pca.explained_variance_ratio_[1]*100, 2),show=True,dim=(10,5))"
   ]
  },
  {
   "cell_type": "markdown",
   "id": "311d7c0b",
   "metadata": {},
   "source": [
    "### Extracting Segements"
   ]
  },
  {
   "cell_type": "markdown",
   "id": "297dfccd",
   "metadata": {},
   "source": [
    "Using Kmeans clustering"
   ]
  },
  {
   "cell_type": "code",
   "execution_count": null,
   "id": "38dbe6b6",
   "metadata": {},
   "outputs": [],
   "source": [
    "# using Kmeans clustering\n",
    "\n",
    "from sklearn.cluster import KMeans\n",
    "\n",
    "# we will try for many values of k from 2 to 8\n",
    "cluster_interia = []\n",
    "n_clusters = []\n",
    "\n",
    "for k in range(1, 9):\n",
    "    kmeans = KMeans(n_clusters = k)\n",
    "    kmeans.fit(x)\n",
    "    cluster_interia.append(kmeans.inertia_)\n",
    "    n_clusters.append(k)"
   ]
  },
  {
   "cell_type": "code",
   "execution_count": null,
   "id": "8491e548",
   "metadata": {},
   "outputs": [],
   "source": [
    "# Now we plot the inertia for every cluster \n",
    "\n",
    "plt.figure(figsize = (10, 6))\n",
    "sns.barplot(x = n_clusters, y = cluster_interia)\n",
    "plt.xlabel('number of clusters')\n",
    "plt.ylabel('Cluster Inertia')\n",
    "plt.title('Kmeans')"
   ]
  },
  {
   "cell_type": "code",
   "execution_count": null,
   "id": "dacf7837",
   "metadata": {},
   "outputs": [],
   "source": [
    "# from above plot we can make a choice that we can divide our market into 4 segments.\n",
    "\n",
    "# Also two way clustering can be used if the inertia falloff is not that significant.\n",
    "\n",
    "# The way we do two way clustering is described below\n",
    "# we initialize a high k and perform k means than the reperesentative of each cluster is fed to hierarchy clustering \n",
    "# in which we can see the number of segments more clearly. This is done because hierarchical clustering is expensive \n",
    "# for large datasets so we reduce all data points by their reperesentatives."
   ]
  },
  {
   "cell_type": "code",
   "execution_count": null,
   "id": "e84a5ff9",
   "metadata": {},
   "outputs": [],
   "source": [
    "# using 4 segments\n",
    "\n",
    "kmeans = KMeans(n_clusters = 4)\n",
    "kmeans.fit(x)"
   ]
  },
  {
   "cell_type": "code",
   "execution_count": null,
   "id": "1bddb978",
   "metadata": {},
   "outputs": [],
   "source": [
    "# visualizing the clusters\n",
    "\n",
    "pred = kmeans.predict(x)\n",
    "\n",
    "plt.figure(figsize = (10, 8))\n",
    "\n",
    "sns.scatterplot(x = df_pc['PC1'], y = df_pc['PC2'], hue = pred,\n",
    "                palette=['green','orange','dodgerblue','red'])\n",
    "\n",
    "plt.show()"
   ]
  },
  {
   "cell_type": "markdown",
   "id": "13e4b23f",
   "metadata": {},
   "source": [
    "**Using Hierarchical Clustering**"
   ]
  },
  {
   "cell_type": "code",
   "execution_count": null,
   "id": "03c8fc5b",
   "metadata": {},
   "outputs": [],
   "source": [
    "# using Hierarchical Clustering\n",
    "\n",
    "from scipy.cluster.hierarchy import linkage, dendrogram\n",
    "from sklearn.cluster import AgglomerativeClustering\n",
    "\n",
    "merg = linkage(x, method=\"ward\")\n",
    "plt.figure(figsize=(25,10))\n",
    "dendrogram(merg,leaf_rotation = 90)\n",
    "plt.xlabel(\"data points\")\n",
    "plt.ylabel(\"euclidean distance\")\n",
    "plt.show()"
   ]
  },
  {
   "cell_type": "code",
   "execution_count": null,
   "id": "8417fa85",
   "metadata": {},
   "outputs": [],
   "source": [
    "# the above figure sugggests we can have 3 segments (long 3 vertcal lines)\n",
    "\n",
    "agglo_clustering = AgglomerativeClustering(n_clusters = 3, metric= \"euclidean\", linkage = \"ward\")\n",
    "agglo_cluster_pred = agglo_clustering.fit_predict(x)"
   ]
  },
  {
   "cell_type": "code",
   "execution_count": null,
   "id": "65beb823",
   "metadata": {},
   "outputs": [],
   "source": [
    "# visualizing the Agglomerative clustering\n",
    "\n",
    "# visualizing the clusters\n",
    "\n",
    "plt.figure(figsize = (10, 8))\n",
    "\n",
    "sns.scatterplot(x = df_pc['PC1'], y = df_pc['PC2'], hue = agglo_cluster_pred,\n",
    "                palette=['green', 'dodgerblue','red'])\n",
    "\n",
    "plt.show()"
   ]
  },
  {
   "cell_type": "markdown",
   "id": "c38c2f21",
   "metadata": {},
   "source": [
    "### Describing Segements"
   ]
  },
  {
   "cell_type": "code",
   "execution_count": null,
   "id": "8af183d3",
   "metadata": {},
   "outputs": [],
   "source": [
    "df['cluster'] = pred"
   ]
  },
  {
   "cell_type": "code",
   "execution_count": null,
   "id": "cf9a69b8",
   "metadata": {},
   "outputs": [],
   "source": [
    "df.head()"
   ]
  },
  {
   "cell_type": "code",
   "execution_count": null,
   "id": "c068d2a2",
   "metadata": {},
   "outputs": [],
   "source": [
    "df['cluster'].value_counts()"
   ]
  },
  {
   "cell_type": "code",
   "execution_count": null,
   "id": "b9c60f2e",
   "metadata": {},
   "outputs": [],
   "source": [
    "sns.countplot(x = df['cluster'], hue = df['cluster'])\n",
    "plt.show()"
   ]
  },
  {
   "cell_type": "code",
   "execution_count": null,
   "id": "eb01d6c8",
   "metadata": {},
   "outputs": [],
   "source": [
    "from statsmodels.graphics.mosaicplot import mosaic\n",
    "from itertools import product\n",
    "\n",
    "crosstable = pd.crosstab(df['cluster'], df['Gender'])\n",
    "crosstable"
   ]
  },
  {
   "cell_type": "code",
   "execution_count": null,
   "id": "37fbe4c1",
   "metadata": {},
   "outputs": [],
   "source": [
    "plt.figure(figsize = (14, 10))\n",
    "mosaic(crosstable.stack())\n",
    "plt.show()"
   ]
  },
  {
   "cell_type": "code",
   "execution_count": null,
   "id": "a565c553",
   "metadata": {},
   "outputs": [],
   "source": [
    "crosstable = pd.crosstab(df['cluster'], df['Like'])\n",
    "crosstable"
   ]
  },
  {
   "cell_type": "code",
   "execution_count": null,
   "id": "7f831269",
   "metadata": {},
   "outputs": [],
   "source": [
    "plt.figure(figsize = (14, 10))\n",
    "mosaic(crosstable.stack())\n",
    "plt.show()"
   ]
  },
  {
   "cell_type": "code",
   "execution_count": null,
   "id": "94f96098",
   "metadata": {},
   "outputs": [],
   "source": [
    "plt.figure(figsize = (14, 7))\n",
    "sns.countplot(x = df['Gender'], hue = df['cluster'])\n",
    "plt.title('Distribution of Gender in diffrent clusters')\n",
    "plt.show()"
   ]
  },
  {
   "cell_type": "code",
   "execution_count": null,
   "id": "afa79c97",
   "metadata": {},
   "outputs": [],
   "source": [
    "plt.figure(figsize = (14, 7))\n",
    "sns.countplot(x = df['Like'], hue = df['cluster'])\n",
    "plt.title('Distribution of Likeness in diffrent clusters')\n",
    "plt.show()"
   ]
  },
  {
   "cell_type": "code",
   "execution_count": null,
   "id": "e32366e5",
   "metadata": {},
   "outputs": [],
   "source": [
    "plt.figure(figsize = (14, 7))\n",
    "sns.countplot(x = df['VisitFrequency'], hue = df['cluster'])\n",
    "plt.title('Distribution of Likeness in diffrent clusters')\n",
    "plt.show()"
   ]
  },
  {
   "cell_type": "code",
   "execution_count": null,
   "id": "e2529ada",
   "metadata": {},
   "outputs": [],
   "source": [
    "plt.figure(figsize = (10, 8))\n",
    "sns.boxplot(x=\"cluster\", y=\"Age\", data=df)\n",
    "plt.show()"
   ]
  },
  {
   "cell_type": "markdown",
   "id": "d507e809",
   "metadata": {},
   "source": [
    "### Selecting the target"
   ]
  },
  {
   "cell_type": "code",
   "execution_count": null,
   "id": "55b04597",
   "metadata": {},
   "outputs": [],
   "source": [
    "# we need to give numerical encodings to visitFrequency column\n",
    "# we will provide meaningful encoding to the columns (more value means more visit)\n",
    "\n",
    "\n",
    "df['VisitFrequency'].unique()"
   ]
  },
  {
   "cell_type": "code",
   "execution_count": null,
   "id": "6eefd859",
   "metadata": {},
   "outputs": [],
   "source": [
    "df['frequency'] = df['VisitFrequency'].replace({\n",
    "    'Never':0,\n",
    "    'Once a week':4,\n",
    "    'More than once a week':5,\n",
    "    'Once a month' : 3,\n",
    "    'Every three months': 2,\n",
    "     'Once a year': 1\n",
    "})"
   ]
  },
  {
   "cell_type": "code",
   "execution_count": null,
   "id": "81c2636a",
   "metadata": {},
   "outputs": [],
   "source": [
    "df.head()"
   ]
  },
  {
   "cell_type": "code",
   "execution_count": null,
   "id": "76920943",
   "metadata": {},
   "outputs": [],
   "source": [
    "# describing each cluster\n",
    "\n",
    "like_by_cluster = []\n",
    "visit_by_cluster = []\n",
    "female_by_cluster = []\n",
    "\n",
    "for i in range(4):\n",
    "    like_by_cluster.append(df[df['cluster'] == i]['Like'].mean())\n",
    "    visit_by_cluster.append(df[df['cluster'] == i]['frequency'].mean())\n",
    "    female_by_cluster.append(len(df[((df['cluster'] == i) & (df['Gender'] == 'Female'))]))\n",
    "    "
   ]
  },
  {
   "cell_type": "code",
   "execution_count": null,
   "id": "541c6d98",
   "metadata": {},
   "outputs": [],
   "source": [
    "# The segment evaluation plot  is extremely simplified because only\n",
    "# a small number of descriptor variables are available for the fast food data set. In\n",
    "# the plot the frequency of visiting McDonald’s is plotted along the x-axis. The\n",
    "# extent of liking or hating McDonald’s is plotted along the y-axis. The bubble size\n",
    "# represents the percentage of female consumers\n",
    "\n",
    "plt.figure(figsize = (8, 6))\n",
    "sns.scatterplot(x = visit_by_cluster, y = like_by_cluster, hue = [0,1,2,3], s = np.array(female_by_cluster)*3, \n",
    "               palette=['Red', 'Green', 'Blue', 'Brown'])\n",
    "\n",
    "plt.xlabel('Visit')\n",
    "plt.ylabel('Like')\n",
    "plt.title('Segment Evaluation Plot')\n",
    "plt.show()"
   ]
  }
 ],
 "metadata": {
  "kernelspec": {
   "display_name": "Python 3 (ipykernel)",
   "language": "python",
   "name": "python3"
  },
  "language_info": {
   "codemirror_mode": {
    "name": "ipython",
    "version": 3
   },
   "file_extension": ".py",
   "mimetype": "text/x-python",
   "name": "python",
   "nbconvert_exporter": "python",
   "pygments_lexer": "ipython3",
   "version": "3.10.9"
  }
 },
 "nbformat": 4,
 "nbformat_minor": 5
}
